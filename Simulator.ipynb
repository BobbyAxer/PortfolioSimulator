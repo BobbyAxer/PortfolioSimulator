{
 "cells": [
  {
   "cell_type": "code",
   "execution_count": 4,
   "id": "78161795",
   "metadata": {},
   "outputs": [],
   "source": [
    "import random\n",
    "import pandas as pd\n",
    "import numpy as np\n",
    "import matplotlib.pyplot as plt\n",
    "from markupsafe import Markup"
   ]
  },
  {
   "cell_type": "code",
   "execution_count": 5,
   "id": "d3e9efbe",
   "metadata": {},
   "outputs": [],
   "source": [
    "# Initialize variables\n",
    "#You can copy notebook and do simulations on your own if you want privacy\n",
    "#Instructions. You can adjust your nitial investments, spendings as % of your portfolio,expected volatility of your portfolio, expected returns, number of yers and expected inflation for this number of years\n",
    "#Then click play here and below and you'll get results\n",
    "initial_investment = 500000\n",
    "minimum_treshhold = 0 #minumum amount for portfolio to calculate chances to be above this amount. Now it's zero, so how often portfolio would be greater than zero\n",
    "spending_percent = 0.035# if you have income you can put spendings as spendings+income\n",
    "volatility = 0.2# for example sp500 volatility around 0.2, crypto volatility is around 0.7-1, 3x sp500 etf volatility is 3*0.2 etc\n",
    "#Let's say you have 50% portfolio invested in sp500, than you BR volatility is 0.2*0.5 = 0.1\n",
    "#if you have 50% of br invested in crypto you portfolio volatility is 0.8*0.5\n",
    "return_rate = 0.08# same principles as with volatility. But much harded to predict future returns, for sp500 conservatively it's inflation+dividends+gdp growth+equity premium around 7-8%, historically 10-15%\n",
    "#sp500 3x long etf probably around 2x sp500 returns\n",
    "inflation_rate = 0.03# average inflation expected rate\n",
    "num_simulations = 100000# leave at least 100k\n",
    "number_of_years = 20# number of years for portfolio to grow\n",
    "outcomes = []"
   ]
  },
  {
   "cell_type": "code",
   "execution_count": 6,
   "id": "e663c378",
   "metadata": {},
   "outputs": [
    {
     "name": "stdout",
     "output_type": "stream",
     "text": [
      "portfolio greater than 0 will be 87.889 %\n",
      " average portfolio would be 1301474.6 $\n",
      "10% of the portfolios will be less than -36822.2\n",
      "20% of the portfolios will be less than 135623.6\n",
      "30% of the portfolios will be less than 310300.3\n",
      "50% of the portfolios will be less than 748330.9\n",
      "70% of the portfolios will be less than 1449059.7\n",
      "80% of the portfolios will be less than 2058414.4\n",
      "90% of the portfolios will be less than 3224098.5\n",
      "inflation adjusted portfolio will be is 720594.9\n"
     ]
    }
   ],
   "source": [
    "## Simulate portfolio over time\n",
    "for i in range(num_simulations):\n",
    "    time = 0\n",
    "    years = number_of_years\n",
    "    investment = initial_investment\n",
    "    spendings = initial_investment * spending_percent\n",
    "    portfolio_values = [initial_investment]\n",
    "    while time < years:\n",
    "        # Generate random return value\n",
    "        return_value = random.normalvariate(return_rate, volatility)\n",
    "        investment = investment *(1 +return_value)\n",
    "        spendings += spendings * inflation_rate\n",
    "        investment -= spendings\n",
    "        portfolio_values.append(investment)\n",
    "        time += 1\n",
    "    # Add resulting investment to the list of outcomes\n",
    "    outcomes.append(portfolio_values)\n",
    "\n",
    "# Create DataFrame with portfolio value per year\n",
    "df = pd.DataFrame(outcomes, columns=range(1, years+2))\n",
    "# print(df.T.describe())\n",
    "portfolio = df.T.iloc[-1]\n",
    "# Calculate the number of times the value of the portfolio is above 100\n",
    "above_100 = np.sum(portfolio > minimum_treshhold)\n",
    "# below_100 = np.sum(portfolio < 100)\n",
    "# Calculate the total number of values in the DataFrame\n",
    "total_values = len(portfolio)\n",
    "# print(total_values)\n",
    "# Calculate the percentage of values that are above 100\n",
    "percent_above_100 = above_100 / total_values * 100\n",
    "# print(above_100)\n",
    "# Calculate the percentage of values that are below 100\n",
    "# percent_below_100 = below_100 / total_values * 100\n",
    "print(f'portfolio greater than {minimum_treshhold} will be {percent_above_100} %')\n",
    "print(f\" average portfolio would be {round(df.T.iloc[-1].mean(), 1)} $\")\n",
    "# print(df.T.iloc[-1].quantile([0.1, 0.3, 0.5, 0.7, 0.9]))\n",
    "print(f\"10% of the portfolios will be less than {round(df.T.iloc[-1].quantile(0.1),1)}\")\n",
    "print(f\"20% of the portfolios will be less than {round(df.T.iloc[-1].quantile(0.2),1)}\")\n",
    "print(f\"30% of the portfolios will be less than {round(df.T.iloc[-1].quantile(0.3), 1)}\")\n",
    "print(f\"50% of the portfolios will be less than {round(df.T.iloc[-1].quantile(0.5), 1)}\")\n",
    "print(f\"70% of the portfolios will be less than {round(df.T.iloc[-1].quantile(0.7), 1)}\")\n",
    "print(f\"80% of the portfolios will be less than {round(df.T.iloc[-1].quantile(0.8), 1)}\")\n",
    "print(f\"90% of the portfolios will be less than {round(df.T.iloc[-1].quantile(0.9), 1)}\")\n",
    "print(f'inflation adjusted portfolio will be is {round(df.T.iloc[-1].mean() / (1+inflation_rate) **years, 1)}')"
   ]
  },
  {
   "cell_type": "code",
   "execution_count": 7,
   "id": "ad8c7a5b",
   "metadata": {},
   "outputs": [],
   "source": [
    "# df.T.plot()\n",
    "# plt.xlabel('years')\n",
    "# plt.ylabel('Portfolio value (dollars)')\n",
    "# plt.show()"
   ]
  },
  {
   "cell_type": "code",
   "execution_count": 5,
   "id": "5d42719d",
   "metadata": {},
   "outputs": [
    {
     "name": "stdout",
     "output_type": "stream",
     "text": [
      "[NbConvertApp] Converting notebook Simulator.ipynb to html\n",
      "[NbConvertApp] Writing 585826 bytes to Simulator.html\n"
     ]
    }
   ],
   "source": [
    "!jupyter nbconvert --to html Simulator.ipynb"
   ]
  },
  {
   "cell_type": "code",
   "execution_count": null,
   "id": "128d3408",
   "metadata": {},
   "outputs": [],
   "source": []
  },
  {
   "cell_type": "code",
   "execution_count": null,
   "id": "e169e369",
   "metadata": {},
   "outputs": [],
   "source": []
  }
 ],
 "metadata": {
  "kernelspec": {
   "display_name": "Python 3 (ipykernel)",
   "language": "python",
   "name": "python3"
  },
  "language_info": {
   "codemirror_mode": {
    "name": "ipython",
    "version": 3
   },
   "file_extension": ".py",
   "mimetype": "text/x-python",
   "name": "python",
   "nbconvert_exporter": "python",
   "pygments_lexer": "ipython3",
   "version": "3.8.12"
  }
 },
 "nbformat": 4,
 "nbformat_minor": 5
}
